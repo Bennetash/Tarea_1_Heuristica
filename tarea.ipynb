{
 "cells": [
  {
   "cell_type": "code",
   "execution_count": 9,
   "metadata": {},
   "outputs": [],
   "source": [
    "import numpy as np\n",
    "import random\n",
    "from collections import deque, defaultdict\n",
    "import networkx as nx\n",
    "import matplotlib.pyplot as plt"
   ]
  },
  {
   "cell_type": "code",
   "execution_count": 10,
   "metadata": {},
   "outputs": [],
   "source": [
    "# Generate a symmetrical random distance matrix for 15 nodes\n",
    "np.random.seed(123)\n",
    "num_nodes = 15\n",
    "upper_triangular = np.triu(np.random.randint(1, 10, size=(num_nodes, num_nodes)), 1)\n",
    "distance_matrix = upper_triangular + upper_triangular.T"
   ]
  },
  {
   "cell_type": "code",
   "execution_count": 11,
   "metadata": {},
   "outputs": [],
   "source": [
    "# Define the tree structure\n",
    "tree = defaultdict(list)\n",
    "root = 1"
   ]
  },
  {
   "cell_type": "code",
   "execution_count": 12,
   "metadata": {},
   "outputs": [],
   "source": [
    "# Level 2 nodes\n",
    "tree[root] = [2, 3, 4, 5]\n",
    "\n",
    "# Level 3 nodes\n",
    "tree[2] = [6]\n",
    "tree[3] = [7, 8]\n",
    "tree[4] = [9]\n",
    "tree[5] = [10]\n",
    "\n",
    "# Level 4 nodes\n",
    "tree[6] = [11]\n",
    "tree[7] = [12]\n",
    "tree[8] = [13]\n",
    "tree[9] = [14]\n",
    "tree[10] = [15]"
   ]
  },
  {
   "cell_type": "code",
   "execution_count": 13,
   "metadata": {},
   "outputs": [],
   "source": [
    "# Flatten the tree into a BFS path\n",
    "def bfs_full_path(tree, start_node):\n",
    "    visited = set()\n",
    "    queue = deque([start_node])\n",
    "    path = []\n",
    "    \n",
    "    while queue:\n",
    "        current_node = queue.popleft()\n",
    "        if current_node not in visited:\n",
    "            visited.add(current_node)\n",
    "            path.append(current_node)\n",
    "            for neighbor in tree[current_node]:\n",
    "                if neighbor not in visited:\n",
    "                    queue.append(neighbor)\n",
    "    return path"
   ]
  },
  {
   "cell_type": "code",
   "execution_count": 14,
   "metadata": {},
   "outputs": [],
   "source": [
    "# Find a path through the tree with BFS that visits all nodes\n",
    "path = bfs_full_path(tree, root)"
   ]
  },
  {
   "cell_type": "code",
   "execution_count": 15,
   "metadata": {},
   "outputs": [
    {
     "name": "stdout",
     "output_type": "stream",
     "text": [
      "Symmetrical Distance Matrix:\n",
      "[[0 3 7 2 4 7 2 1 2 1 1 4 5 1 1]\n",
      " [3 0 8 4 3 5 8 3 5 9 1 8 4 5 7]\n",
      " [7 8 0 3 2 9 4 6 1 3 7 3 5 5 7]\n",
      " [2 4 3 0 8 7 8 2 6 8 3 5 9 2 3]\n",
      " [4 3 2 8 0 9 2 7 4 4 6 8 3 4 4]\n",
      " [7 5 9 7 9 0 7 7 7 2 4 5 4 2 1]\n",
      " [2 8 4 8 2 7 0 2 4 5 8 7 2 5 4]\n",
      " [1 3 6 2 7 7 2 0 1 1 9 9 5 9 7]\n",
      " [2 5 1 6 4 7 4 1 0 8 2 4 2 9 8]\n",
      " [1 9 3 8 4 2 5 1 8 0 2 4 9 4 8]\n",
      " [1 1 7 3 6 4 8 9 2 2 0 1 9 3 6]\n",
      " [4 8 3 5 8 5 7 9 4 4 1 0 8 6 2]\n",
      " [5 4 5 9 3 4 2 5 2 9 9 8 0 3 7]\n",
      " [1 5 5 2 4 2 5 9 9 4 3 6 3 0 8]\n",
      " [1 7 7 3 4 1 4 7 8 8 6 2 7 8 0]]\n",
      "\n",
      "Tree Structure:\n",
      "Node 1: [2, 3, 4, 5]\n",
      "Node 2: [6]\n",
      "Node 3: [7, 8]\n",
      "Node 4: [9]\n",
      "Node 5: [10]\n",
      "Node 6: [11]\n",
      "Node 7: [12]\n",
      "Node 8: [13]\n",
      "Node 9: [14]\n",
      "Node 10: [15]\n",
      "Node 11: []\n",
      "Node 12: []\n",
      "Node 13: []\n",
      "Node 14: []\n",
      "Node 15: []\n",
      "\n",
      "BFS Path through all nodes:\n",
      "[1, 2, 3, 4, 5, 6, 7, 8, 9, 10, 11, 12, 13, 14, 15]\n"
     ]
    }
   ],
   "source": [
    "# Print the results\n",
    "print(\"Symmetrical Distance Matrix:\")\n",
    "print(distance_matrix)\n",
    "print(\"\\nTree Structure:\")\n",
    "for node in tree:\n",
    "    print(f\"Node {node}: {tree[node]}\")\n",
    "print(\"\\nBFS Path through all nodes:\")\n",
    "print(path)"
   ]
  },
  {
   "cell_type": "code",
   "execution_count": 16,
   "metadata": {},
   "outputs": [
    {
     "name": "stdout",
     "output_type": "stream",
     "text": [
      "\n",
      "Total Distance of the Path:\n",
      "71\n"
     ]
    }
   ],
   "source": [
    "# Calculate the total distance of the path\n",
    "if path:\n",
    "    total_distance = sum(distance_matrix[path[i]-1][path[i + 1]-1] for i in range(len(path) - 1))\n",
    "    print(\"\\nTotal Distance of the Path:\")\n",
    "    print(total_distance)\n",
    "else:\n",
    "    print(\"\\nNo path found.\")\n"
   ]
  }
 ],
 "metadata": {
  "kernelspec": {
   "display_name": "base",
   "language": "python",
   "name": "python3"
  },
  "language_info": {
   "codemirror_mode": {
    "name": "ipython",
    "version": 3
   },
   "file_extension": ".py",
   "mimetype": "text/x-python",
   "name": "python",
   "nbconvert_exporter": "python",
   "pygments_lexer": "ipython3",
   "version": "3.11.5"
  }
 },
 "nbformat": 4,
 "nbformat_minor": 2
}
